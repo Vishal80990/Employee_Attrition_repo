{
 "cells": [
  {
   "cell_type": "code",
   "execution_count": null,
   "id": "e3bf3afa-20a2-4adb-9294-25421cca7c0a",
   "metadata": {},
   "outputs": [],
   "source": [
    "import pandas as pd\n",
    "from datetime import datetime, timedelta\n",
    "\n",
    "# Assuming your dataset is in a DataFrame called df\n",
    "# and has columns 'line_of_business', 'delivery_unit', 'practice_unit', and 'job_end_date'\n",
    "\n",
    "# Convert job_end_date to datetime\n",
    "df['job_end_date'] = pd.to_datetime(df['job_end_date'])\n",
    "\n",
    "# Define the end date as September 30, 2024\n",
    "end_date = datetime(2024, 9, 30)\n",
    "start_date = end_date - timedelta(days=2*365)\n",
    "df_filtered = df[(df['job_end_date'] >= start_date) & (df['job_end_date'] <= end_date)]\n",
    "\n",
    "# Create a DataFrame with all months in the last 2 years\n",
    "all_months = pd.date_range(start=start_date, end=end_date, freq='MS').to_frame(index=False, name='month')\n",
    "\n",
    "# Create a DataFrame with all combinations of line_of_business, delivery_unit, practice_unit, and month\n",
    "unique_combinations = df_filtered[['line_of_business', 'delivery_unit', 'practice_unit']].drop_duplicates()\n",
    "all_combinations = unique_combinations.merge(all_months, how='cross')\n",
    "\n",
    "# Extract year and month from job_end_date\n",
    "df_filtered['year_month'] = df_filtered['job_end_date'].dt.to_period('M')\n",
    "\n",
    "# Check for missing months\n",
    "missing_months = all_combinations.merge(\n",
    "    df_filtered[['line_of_business', 'delivery_unit', 'practice_unit', 'year_month']],\n",
    "    how='left',\n",
    "    left_on=['line_of_business', 'delivery_unit', 'practice_unit', 'month'],\n",
    "    right_on=['line_of_business', 'delivery_unit', 'practice_unit', 'year_month']\n",
    ")\n",
    "\n",
    "# Identify missing entries\n",
    "missing_months = missing_months[missing_months['year_month'].isna()]\n",
    "\n",
    "# Display missing months\n",
    "print(\"Missing months for each line of business, delivery unit, and practice unit:\")\n",
    "print(missing_months[['line_of_business', 'delivery_unit', 'practice_unit', 'month']])\n"
   ]
  },
  {
   "cell_type": "code",
   "execution_count": null,
   "id": "6cb7f515-7dc5-4d07-8f03-08bccf0d41d7",
   "metadata": {},
   "outputs": [
    {
     "name": "stdout",
     "output_type": "stream",
     "text": [
      "Collecting fosforml\n",
      "\u001b[?25l  Downloading https://files.pythonhosted.org/packages/94/2e/3613fd0ccdbf3709dec86f87fe7624737a6f08bd1a813c88e65e7352dfde/fosforml-1.1.8-py3-none-any.whl (42kB)\n",
      "\u001b[K     |████████████████████████████████| 51kB 6.6MB/s eta 0:00:011\n",
      "\u001b[?25hCollecting scikit-learn==1.3.2\n",
      "\u001b[?25l  Downloading https://files.pythonhosted.org/packages/25/89/dce01a35d354159dcc901e3c7e7eb3fe98de5cb3639c6cd39518d8830caa/scikit_learn-1.3.2-cp39-cp39-manylinux_2_17_x86_64.manylinux2014_x86_64.whl (10.9MB)\n",
      "\u001b[K     |████████████████████████████████| 10.9MB 28.5MB/s eta 0:00:01\n",
      "\u001b[?25hCollecting snowflake-ml-python==1.5.0; python_version <= \"3.9\"\n",
      "\u001b[?25l  Downloading https://files.pythonhosted.org/packages/80/72/c0fa5a9bc811a59a5a1c7113ff89676ed1629d7d6463db8c1a8c97a8b5f6/snowflake_ml_python-1.5.0-py3-none-any.whl (1.9MB)\n",
      "\u001b[K     |████████████████████████████████| 1.9MB 82.2MB/s eta 0:00:01\n",
      "\u001b[?25hCollecting cloudpickle==2.2.1\n",
      "  Downloading https://files.pythonhosted.org/packages/15/80/44286939ca215e88fa827b2aeb6fa3fd2b4a7af322485c7170d6f9fd96e0/cloudpickle-2.2.1-py3-none-any.whl\n",
      "Collecting threadpoolctl>=2.0.0\n",
      "  Downloading https://files.pythonhosted.org/packages/4b/2c/ffbf7a134b9ab11a67b0cf0726453cedd9c5043a4fe7a35d1cefa9a1bcfb/threadpoolctl-3.5.0-py3-none-any.whl\n",
      "Collecting scipy>=1.5.0\n",
      "\u001b[?25l  Downloading https://files.pythonhosted.org/packages/35/f5/d0ad1a96f80962ba65e2ce1de6a1e59edecd1f0a7b55990ed208848012e0/scipy-1.13.1-cp39-cp39-manylinux_2_17_x86_64.manylinux2014_x86_64.whl (38.6MB)\n",
      "\u001b[K     |████████▉                       | 10.7MB 78.2MB/s eta 0:00:01"
     ]
    }
   ],
   "source": [
    "!pip install fosforml \n",
    "!pip install fosforio"
   ]
  },
  {
   "cell_type": "code",
   "execution_count": null,
   "id": "c87d6f39-bab8-4a89-80bd-ef70bd7331e1",
   "metadata": {},
   "outputs": [],
   "source": []
  }
 ],
 "metadata": {
  "kernelspec": {
   "display_name": "Python 3 (ipykernel)",
   "language": "python",
   "name": "python3"
  },
  "language_info": {
   "codemirror_mode": {
    "name": "ipython",
    "version": 3
   },
   "file_extension": ".py",
   "mimetype": "text/x-python",
   "name": "python",
   "nbconvert_exporter": "python",
   "pygments_lexer": "ipython3",
   "version": "3.9.19"
  }
 },
 "nbformat": 4,
 "nbformat_minor": 5
}
