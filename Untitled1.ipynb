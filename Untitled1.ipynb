{
 "cells": [
  {
   "cell_type": "code",
   "execution_count": null,
   "id": "b12a99c2-ed1c-41dc-ac81-672570bdb1e2",
   "metadata": {},
   "outputs": [],
   "source": [
    "# Install necessary packages\n",
    "!pip install fosforml\n",
    "!pip install statsmodels\n",
    "!pip install pmdarima"
   ]
  },
  {
   "cell_type": "code",
   "execution_count": 1,
   "id": "a65d284e-bdd9-4b72-9831-5849c128aac9",
   "metadata": {},
   "outputs": [],
   "source": [
    "# Import necessary libraries\n",
    "from fosforml.model_manager.snowflakesession import get_session\n",
    "import pandas as pd\n",
    "import matplotlib.pyplot as plt\n",
    "\n",
    "# Establish session and load data\n",
    "my_session = get_session()\n",
    "file_name = 'EMPLOYEE_ATTRITION_MASTERTABLE'\n",
    "sf_df = my_session.sql(\"select * from {}\".format(file_name))\n",
    "pandas_df = sf_df.to_pandas()"
   ]
  },
  {
   "cell_type": "code",
   "execution_count": 2,
   "id": "a7610610-86c9-45b6-a7ee-b988b66d21c9",
   "metadata": {},
   "outputs": [
    {
     "name": "stdout",
     "output_type": "stream",
     "text": [
      "ROLE                                  0\n",
      "LINE_OF_BUSINESS                      0\n",
      "DELIVERY_UNIT                         0\n",
      "PRACTICE_UNIT                         0\n",
      "EMPLOYMENT_TYPE                       0\n",
      "OVERTIME_HOURS                        0\n",
      "AVERAGE_PERCENTAGE_SALARY_HIKE        0\n",
      "AVERAGE_PERFORMANCE_RATING            0\n",
      "JOB_STARTDATE                         0\n",
      "JOB_ENDDATE                       74811\n",
      "CHURN                                 0\n",
      "TENURE_MONTHS                         0\n",
      "DISTANCE                              0\n",
      "TURNOVER_REASONS                      0\n",
      "SHIFT                                 0\n",
      "JOB_SATISFACTION                      0\n",
      "EMPLOYEE_ID                           0\n",
      "SALARY_INR                            0\n",
      "SALARY_RANGE                          0\n",
      "SALARY_LEVEL                          0\n",
      "OVER_TIME                             0\n",
      "BIRTH_YEAR                            0\n",
      "AGE                                   0\n",
      "QUALIFICATION                         0\n",
      "ETHNICITY                             0\n",
      "MARITAL_STATUS                        0\n",
      "GENDER                                0\n",
      "CONTINENT                             0\n",
      "COUNTRY                               0\n",
      "STATE                                 0\n",
      "CITY                                  0\n",
      "LATITUDE                              0\n",
      "LONGITUDE                             0\n",
      "dtype: int64\n"
     ]
    }
   ],
   "source": [
    "# Check for NULL VALUES and drop missing values\n",
    "print(pandas_df.isnull().sum())"
   ]
  },
  {
   "cell_type": "code",
   "execution_count": 3,
   "id": "99f873b2-2dbe-4ac8-8fb2-21add29fa6ee",
   "metadata": {},
   "outputs": [],
   "source": [
    "pandas_df = pandas_df.dropna()"
   ]
  },
  {
   "cell_type": "code",
   "execution_count": 4,
   "id": "820e6781-070c-42d2-b1a2-882178fa951a",
   "metadata": {},
   "outputs": [
    {
     "name": "stdout",
     "output_type": "stream",
     "text": [
      "ROLE                              0\n",
      "LINE_OF_BUSINESS                  0\n",
      "DELIVERY_UNIT                     0\n",
      "PRACTICE_UNIT                     0\n",
      "EMPLOYMENT_TYPE                   0\n",
      "OVERTIME_HOURS                    0\n",
      "AVERAGE_PERCENTAGE_SALARY_HIKE    0\n",
      "AVERAGE_PERFORMANCE_RATING        0\n",
      "JOB_STARTDATE                     0\n",
      "JOB_ENDDATE                       0\n",
      "CHURN                             0\n",
      "TENURE_MONTHS                     0\n",
      "DISTANCE                          0\n",
      "TURNOVER_REASONS                  0\n",
      "SHIFT                             0\n",
      "JOB_SATISFACTION                  0\n",
      "EMPLOYEE_ID                       0\n",
      "SALARY_INR                        0\n",
      "SALARY_RANGE                      0\n",
      "SALARY_LEVEL                      0\n",
      "OVER_TIME                         0\n",
      "BIRTH_YEAR                        0\n",
      "AGE                               0\n",
      "QUALIFICATION                     0\n",
      "ETHNICITY                         0\n",
      "MARITAL_STATUS                    0\n",
      "GENDER                            0\n",
      "CONTINENT                         0\n",
      "COUNTRY                           0\n",
      "STATE                             0\n",
      "CITY                              0\n",
      "LATITUDE                          0\n",
      "LONGITUDE                         0\n",
      "dtype: int64\n"
     ]
    }
   ],
   "source": [
    "print(pandas_df.isnull().sum())"
   ]
  },
  {
   "cell_type": "code",
   "execution_count": 5,
   "id": "7446fbb4-1886-4248-92c3-96bd4973d8df",
   "metadata": {},
   "outputs": [],
   "source": [
    "# Select relevant columns for the dataset\n",
    "dataset = pandas_df[[\"LINE_OF_BUSINESS\", \"JOB_ENDDATE\", \"DELIVERY_UNIT\", \"PRACTICE_UNIT\", \"CHURN\"]]"
   ]
  },
  {
   "cell_type": "code",
   "execution_count": 6,
   "id": "851b15d2-3672-4437-bc5f-ffb21f8b9d31",
   "metadata": {},
   "outputs": [],
   "source": [
    "# Convert JOB_ENDDATE to datetime format\n",
    "dataset['JOB_ENDDATE'] = pd.to_datetime(dataset['JOB_ENDDATE'], format='%d-%m-%Y')\n",
    "\n",
    "# Set JOB_ENDDATE as the index\n",
    "dataset.set_index('JOB_ENDDATE', inplace=True)"
   ]
  },
  {
   "cell_type": "code",
   "execution_count": null,
   "id": "2b927e7e-d46d-43d9-8af0-29892bdd38bc",
   "metadata": {},
   "outputs": [],
   "source": []
  }
 ],
 "metadata": {
  "kernelspec": {
   "display_name": "Python 3 (ipykernel)",
   "language": "python",
   "name": "python3"
  },
  "language_info": {
   "codemirror_mode": {
    "name": "ipython",
    "version": 3
   },
   "file_extension": ".py",
   "mimetype": "text/x-python",
   "name": "python",
   "nbconvert_exporter": "python",
   "pygments_lexer": "ipython3",
   "version": "3.9.19"
  }
 },
 "nbformat": 4,
 "nbformat_minor": 5
}
