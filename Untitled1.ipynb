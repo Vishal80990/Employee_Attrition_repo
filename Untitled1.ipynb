{
 "cells": [
  {
   "cell_type": "code",
   "execution_count": null,
   "id": "e3bf3afa-20a2-4adb-9294-25421cca7c0a",
   "metadata": {},
   "outputs": [],
   "source": [
    "import pandas as pd\n",
    "from datetime import datetime, timedelta\n",
    "\n",
    "# Assuming your dataset is in a DataFrame called df\n",
    "# and has columns 'line_of_business', 'delivery_unit', 'practice_unit', and 'job_end_date'\n",
    "\n",
    "# Convert job_end_date to datetime\n",
    "df['job_end_date'] = pd.to_datetime(df['job_end_date'])\n",
    "\n",
    "# Define the end date as September 30, 2024\n",
    "end_date = datetime(2024, 9, 30)\n",
    "start_date = end_date - timedelta(days=2*365)\n",
    "df_filtered = df[(df['job_end_date'] >= start_date) & (df['job_end_date'] <= end_date)]\n",
    "\n",
    "# Create a DataFrame with all months in the last 2 years\n",
    "all_months = pd.date_range(start=start_date, end=end_date, freq='MS').to_frame(index=False, name='month')\n",
    "\n",
    "# Create a DataFrame with all combinations of line_of_business, delivery_unit, practice_unit, and month\n",
    "unique_combinations = df_filtered[['line_of_business', 'delivery_unit', 'practice_unit']].drop_duplicates()\n",
    "all_combinations = unique_combinations.merge(all_months, how='cross')\n",
    "\n",
    "# Extract year and month from job_end_date\n",
    "df_filtered['year_month'] = df_filtered['job_end_date'].dt.to_period('M')\n",
    "\n",
    "# Check for missing months\n",
    "missing_months = all_combinations.merge(\n",
    "    df_filtered[['line_of_business', 'delivery_unit', 'practice_unit', 'year_month']],\n",
    "    how='left',\n",
    "    left_on=['line_of_business', 'delivery_unit', 'practice_unit', 'month'],\n",
    "    right_on=['line_of_business', 'delivery_unit', 'practice_unit', 'year_month']\n",
    ")\n",
    "\n",
    "# Identify missing entries\n",
    "missing_months = missing_months[missing_months['year_month'].isna()]\n",
    "\n",
    "# Display missing months\n",
    "print(\"Missing months for each line of business, delivery unit, and practice unit:\")\n",
    "print(missing_months[['line_of_business', 'delivery_unit', 'practice_unit', 'month']])\n"
   ]
  },
  {
   "cell_type": "code",
   "execution_count": null,
   "id": "6cb7f515-7dc5-4d07-8f03-08bccf0d41d7",
   "metadata": {},
   "outputs": [],
   "source": [
    "!pip install fosforml \n",
    "!pip install fosforio"
   ]
  },
  {
   "cell_type": "code",
   "execution_count": 1,
   "id": "c87d6f39-bab8-4a89-80bd-ef70bd7331e1",
   "metadata": {},
   "outputs": [],
   "source": [
    "from fosforml.model_manager.snowflakesession import get_session\n",
    "my_session = get_session()"
   ]
  },
  {
   "cell_type": "code",
   "execution_count": 2,
   "id": "e04e984f-f4c4-4b89-bf8a-fcbd3308313a",
   "metadata": {},
   "outputs": [],
   "source": [
    "df = 'EMPLOYEE_ATTRITION_MASTERTABLE'"
   ]
  },
  {
   "cell_type": "code",
   "execution_count": null,
   "id": "5d37280a-e21e-42e3-a246-f0bac7732545",
   "metadata": {},
   "outputs": [],
   "source": [
    "sf_df = my_session.sql(\"select * from {}\".format(df))\n",
    "df = sf_df.to_pandas()"
   ]
  }
 ],
 "metadata": {
  "kernelspec": {
   "display_name": "Python 3 (ipykernel)",
   "language": "python",
   "name": "python3"
  },
  "language_info": {
   "codemirror_mode": {
    "name": "ipython",
    "version": 3
   },
   "file_extension": ".py",
   "mimetype": "text/x-python",
   "name": "python",
   "nbconvert_exporter": "python",
   "pygments_lexer": "ipython3",
   "version": "3.9.19"
  }
 },
 "nbformat": 4,
 "nbformat_minor": 5
}
