{
 "cells": [
  {
   "cell_type": "code",
   "execution_count": null,
   "id": "f9f91e31-2e26-47e8-8470-03332f442dfd",
   "metadata": {},
   "outputs": [],
   "source": []
  }
 ],
 "metadata": {
  "kernelspec": {
   "display_name": "",
   "name": ""
  },
  "language_info": {
   "name": ""
  }
 },
 "nbformat": 4,
 "nbformat_minor": 5
}
